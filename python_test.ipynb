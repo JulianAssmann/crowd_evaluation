{
 "cells": [
  {
   "cell_type": "code",
   "execution_count": 2,
   "metadata": {
    "collapsed": true
   },
   "outputs": [],
   "source": [
    "import numpy as np"
   ]
  },
  {
   "cell_type": "code",
   "execution_count": 5,
   "outputs": [
    {
     "data": {
      "text/plain": "array([2, 4, 5, 6])"
     },
     "execution_count": 5,
     "metadata": {},
     "output_type": "execute_result"
    }
   ],
   "source": [
    "workers = np.array([1, 2, 3, 4, 5, 6])\n",
    "arr1 = np.array([0.1, 0.3, 0.2, 0.35, 0.23, 0.25])\n",
    "filter = np.where(arr1 > 0.2)[0]\n",
    "workers[filter]"
   ],
   "metadata": {
    "collapsed": false,
    "pycharm": {
     "name": "#%%\n"
    }
   }
  },
  {
   "cell_type": "code",
   "execution_count": 14,
   "outputs": [
    {
     "data": {
      "text/plain": "[(1, 2, 3, 4, 5, 6, 7, 8),\n (1, 2, 3, 4, 5, 6, 7, 9),\n (1, 2, 3, 4, 5, 6, 7, 10),\n (1, 2, 3, 4, 5, 6, 8, 9),\n (1, 2, 3, 4, 5, 6, 8, 10),\n (1, 2, 3, 4, 5, 6, 9, 10),\n (1, 2, 3, 4, 5, 7, 8, 9),\n (1, 2, 3, 4, 5, 7, 8, 10),\n (1, 2, 3, 4, 5, 7, 9, 10),\n (1, 2, 3, 4, 5, 8, 9, 10),\n (1, 2, 3, 4, 6, 7, 8, 9),\n (1, 2, 3, 4, 6, 7, 8, 10),\n (1, 2, 3, 4, 6, 7, 9, 10),\n (1, 2, 3, 4, 6, 8, 9, 10),\n (1, 2, 3, 4, 7, 8, 9, 10),\n (1, 2, 3, 5, 6, 7, 8, 9),\n (1, 2, 3, 5, 6, 7, 8, 10),\n (1, 2, 3, 5, 6, 7, 9, 10),\n (1, 2, 3, 5, 6, 8, 9, 10),\n (1, 2, 3, 5, 7, 8, 9, 10),\n (1, 2, 3, 6, 7, 8, 9, 10),\n (1, 2, 4, 5, 6, 7, 8, 9),\n (1, 2, 4, 5, 6, 7, 8, 10),\n (1, 2, 4, 5, 6, 7, 9, 10),\n (1, 2, 4, 5, 6, 8, 9, 10),\n (1, 2, 4, 5, 7, 8, 9, 10),\n (1, 2, 4, 6, 7, 8, 9, 10),\n (1, 2, 5, 6, 7, 8, 9, 10),\n (1, 3, 4, 5, 6, 7, 8, 9),\n (1, 3, 4, 5, 6, 7, 8, 10),\n (1, 3, 4, 5, 6, 7, 9, 10),\n (1, 3, 4, 5, 6, 8, 9, 10),\n (1, 3, 4, 5, 7, 8, 9, 10),\n (1, 3, 4, 6, 7, 8, 9, 10),\n (1, 3, 5, 6, 7, 8, 9, 10),\n (1, 4, 5, 6, 7, 8, 9, 10),\n (2, 3, 4, 5, 6, 7, 8, 9),\n (2, 3, 4, 5, 6, 7, 8, 10),\n (2, 3, 4, 5, 6, 7, 9, 10),\n (2, 3, 4, 5, 6, 8, 9, 10),\n (2, 3, 4, 5, 7, 8, 9, 10),\n (2, 3, 4, 6, 7, 8, 9, 10),\n (2, 3, 5, 6, 7, 8, 9, 10),\n (2, 4, 5, 6, 7, 8, 9, 10),\n (3, 4, 5, 6, 7, 8, 9, 10)]"
     },
     "execution_count": 14,
     "metadata": {},
     "output_type": "execute_result"
    }
   ],
   "source": [
    "from itertools import combinations\n",
    "\n",
    "classes = [1, 2, 3, 4, 5, 6, 7,8,9,10]\n",
    "list(combinations(classes, 8))"
   ],
   "metadata": {
    "collapsed": false,
    "pycharm": {
     "name": "#%%\n"
    }
   }
  },
  {
   "cell_type": "code",
   "execution_count": null,
   "outputs": [],
   "source": [],
   "metadata": {
    "collapsed": false,
    "pycharm": {
     "name": "#%%\n"
    }
   }
  }
 ],
 "metadata": {
  "kernelspec": {
   "display_name": "Python 3",
   "language": "python",
   "name": "python3"
  },
  "language_info": {
   "codemirror_mode": {
    "name": "ipython",
    "version": 2
   },
   "file_extension": ".py",
   "mimetype": "text/x-python",
   "name": "python",
   "nbconvert_exporter": "python",
   "pygments_lexer": "ipython2",
   "version": "2.7.6"
  }
 },
 "nbformat": 4,
 "nbformat_minor": 0
}