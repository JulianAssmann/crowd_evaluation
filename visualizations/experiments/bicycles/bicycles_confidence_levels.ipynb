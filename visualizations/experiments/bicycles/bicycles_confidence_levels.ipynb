{
 "cells": [
  {
   "cell_type": "code",
   "execution_count": 1,
   "metadata": {
    "collapsed": true
   },
   "outputs": [],
   "source": [
    "from crowd_evaluation import ConfidenceEvaluatorC\n",
    "from datasets import BicyclesDataset\n",
    "import numpy as np\n",
    "from tqdm.notebook import tqdm"
   ]
  },
  {
   "cell_type": "code",
   "execution_count": 2,
   "outputs": [],
   "source": [
    "dataset = BicyclesDataset('/Users/julianassmann/Documents/Bachelor-Thesis/Code/datasets/bicycles/bicycles_with_truth.csv')"
   ],
   "metadata": {
    "collapsed": false,
    "pycharm": {
     "name": "#%%\n"
    }
   }
  },
  {
   "cell_type": "code",
   "execution_count": 3,
   "outputs": [
    {
     "data": {
      "text/plain": "  0%|          | 0/20 [00:00<?, ?it/s]",
      "application/vnd.jupyter.widget-view+json": {
       "version_major": 2,
       "version_minor": 0,
       "model_id": "632290fdb7ec43e8a34c58787090e07a"
      }
     },
     "metadata": {},
     "output_type": "display_data"
    },
    {
     "name": "stdout",
     "output_type": "stream",
     "text": [
      "[(0.0, 0.0), (0.0, 0.00045012633), (0.0, 0.0009020313), (0.0, 0.0013575435), (0.0, 0.0018185944), (0.0, 0.00228728), (0.0, 0.0027659351), (0.0, 0.0032572285), (0.0, 0.0037642897), (0.0, 0.0042908844), (0.0, 0.004841672), (0.0, 0.0054225745), (0.0, 0.0060413857), (0.0, 0.0067087356), (0.0, 0.0074398), (0.0, 0.00825752), (0.0, 0.009199325), (0.0, 0.010333348), (0.0, 0.011807207), (0.0, 0.014069155)]\n",
      "\u0007\n"
     ]
    }
   ],
   "source": [
    "p_measured = dataset.get_measured_error_rates_for_workers(dataset.workers)\n",
    "\n",
    "from joblib import Memory, Parallel, delayed\n",
    "memory = Memory('bicycles_confidence_levels', verbose=0)\n",
    "@memory.cache\n",
    "def calc_accuracies_and_interval_size(\n",
    "        confidence: float,\n",
    "        evaluator_name: str):\n",
    "    evaluator = ConfidenceEvaluatorC(dataset)\n",
    "    ps, confs = evaluator.evaluate_workers_with_confidence(dataset.workers, confidence=confidence)\n",
    "    min_limit, max_limit = ps-confs, ps+confs\n",
    "\n",
    "    inside_interval = np.where((min_limit <= p_measured) & (p_measured <= max_limit), 1, 0)\n",
    "    accuracy = np.count_nonzero(inside_interval) / dataset.num_workers\n",
    "    return accuracy, np.average(2*confs)\n",
    "\n",
    "\n",
    "confidence_levels = np.arange(0, 1, 0.05)\n",
    "accuracies = []\n",
    "interval_sizes = dict()\n",
    "\n",
    "res = Parallel(n_jobs=7)(delayed(calc_accuracies_and_interval_size)(c, 'c') for c in tqdm(confidence_levels))\n",
    "\n",
    "print(res)\n",
    "print('\\a')"
   ],
   "metadata": {
    "collapsed": false,
    "pycharm": {
     "name": "#%%\n"
    }
   }
  }
 ],
 "metadata": {
  "kernelspec": {
   "display_name": "Python 3",
   "language": "python",
   "name": "python3"
  },
  "language_info": {
   "codemirror_mode": {
    "name": "ipython",
    "version": 2
   },
   "file_extension": ".py",
   "mimetype": "text/x-python",
   "name": "python",
   "nbconvert_exporter": "python",
   "pygments_lexer": "ipython2",
   "version": "2.7.6"
  }
 },
 "nbformat": 4,
 "nbformat_minor": 0
}