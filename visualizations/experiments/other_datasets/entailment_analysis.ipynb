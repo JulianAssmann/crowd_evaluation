{
 "cells": [
  {
   "cell_type": "code",
   "execution_count": null,
   "metadata": {
    "collapsed": true,
    "pycharm": {
     "is_executing": true
    }
   },
   "outputs": [],
   "source": [
    "from crowd_evaluation import ConfidenceEvaluatorNew\n",
    "from datasets import EntailmentDataset\n",
    "import numpy as np\n",
    "import plotly.graph_objects as go"
   ]
  },
  {
   "cell_type": "code",
   "execution_count": null,
   "outputs": [],
   "source": [
    "dataset = EntailmentDataset('/Users/julianassmann/Documents/Bachelor-Thesis/Code/datasets/ent_tem/rte.standardized.tsv',\n",
    "                            prefilter_mode='truth',\n",
    "                            debug=True)\n",
    "evalc = ConfidenceEvaluatorNew(dataset, debug=True)"
   ],
   "metadata": {
    "collapsed": false,
    "pycharm": {
     "name": "#%%\n",
     "is_executing": true
    }
   }
  },
  {
   "cell_type": "code",
   "execution_count": null,
   "outputs": [],
   "source": [
    "ps, confs = evalc.evaluate_workers_with_confidence(dataset.workers, 0.95, min_shared_samples=10)"
   ],
   "metadata": {
    "collapsed": false,
    "pycharm": {
     "name": "#%%\n",
     "is_executing": true
    }
   }
  },
  {
   "cell_type": "code",
   "execution_count": null,
   "outputs": [],
   "source": [
    "ps, confs = np.minimum(ps, 1), np.minimum(confs, .5)"
   ],
   "metadata": {
    "collapsed": false,
    "pycharm": {
     "name": "#%%\n",
     "is_executing": true
    }
   }
  },
  {
   "cell_type": "code",
   "execution_count": null,
   "outputs": [],
   "source": [
    "ind = dataset.workers\n",
    "min = 0\n",
    "max = 10\n",
    "x_labels = np.char.add(np.full(dataset.num_workers, \"W\"), np.char.mod('%d', ind + 1))\n",
    "fig = go.Figure()\n",
    "fig.add_trace(go.Bar(y=dataset.get_measured_error_rates_for_workers(dataset.workers[min:max])*100, name=r'$p_{true}$', x=x_labels))\n",
    "# fig.add_trace(go.Bar(y=ps*100, name=r'$p_{est}$', x=x_labels))\n",
    "fig.add_trace(go.Bar(y=ps[min:max]*100, name=r'$p_{est}$', error_y=dict(type='data', array=confs[min:max]*100), x=x_labels))\n",
    "fig.update_layout(barmode='group', title='Measured and estimated error rates in %')\n",
    "fig.show()"
   ],
   "metadata": {
    "collapsed": false,
    "pycharm": {
     "name": "#%%\n",
     "is_executing": true
    }
   }
  },
  {
   "cell_type": "code",
   "execution_count": null,
   "outputs": [],
   "source": [
    "accuracies = []\n",
    "confidence_levels = np.arange(5, 100, step=5) / 100\n",
    "for c in confidence_levels:\n",
    "    ps, confs = evalc.evaluate_workers_with_confidence(dataset.workers, c, min_shared_samples=10)\n",
    "    p_measured = dataset.get_measured_error_rates_for_workers(dataset.workers)\n",
    "    min, max = ps-confs, ps+confs\n",
    "\n",
    "    accuracy = np.count_nonzero(np.where((ps <= max) & (ps >= min), 1, 0)) / len(ps)\n",
    "    print(c, ':', accuracy)\n",
    "    accuracies.append(accuracy)"
   ],
   "metadata": {
    "collapsed": false,
    "pycharm": {
     "name": "#%%\n",
     "is_executing": true
    }
   }
  },
  {
   "cell_type": "code",
   "execution_count": null,
   "outputs": [],
   "source": [
    "import matplotlib.pyplot as plt\n",
    "\n",
    "plt.plot(confidence_levels, accuracies, label='Evaluator')\n",
    "plt.plot(confidence_levels, confidence_levels, label='optimal')\n",
    "plt.xlabel('confidence level')\n",
    "plt.ylabel('accuracy')\n",
    "plt.legend()\n",
    "plt.show()"
   ],
   "metadata": {
    "collapsed": false,
    "pycharm": {
     "name": "#%%\n",
     "is_executing": true
    }
   }
  },
  {
   "cell_type": "code",
   "execution_count": null,
   "outputs": [],
   "source": [],
   "metadata": {
    "collapsed": false,
    "pycharm": {
     "name": "#%%\n",
     "is_executing": true
    }
   }
  }
 ],
 "metadata": {
  "kernelspec": {
   "display_name": "Python 3",
   "language": "python",
   "name": "python3"
  },
  "language_info": {
   "codemirror_mode": {
    "name": "ipython",
    "version": 2
   },
   "file_extension": ".py",
   "mimetype": "text/x-python",
   "name": "python",
   "nbconvert_exporter": "python",
   "pygments_lexer": "ipython2",
   "version": "2.7.6"
  }
 },
 "nbformat": 4,
 "nbformat_minor": 0
}