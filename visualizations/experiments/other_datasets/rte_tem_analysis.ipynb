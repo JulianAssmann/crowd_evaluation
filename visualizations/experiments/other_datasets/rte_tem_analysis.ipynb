{
 "cells": [
  {
   "cell_type": "code",
   "execution_count": 1,
   "metadata": {
    "collapsed": true
   },
   "outputs": [],
   "source": [
    "import pandas as pd\n",
    "\n",
    "from crowd_evaluation import ConfidenceEvaluatorNew\n",
    "from datasets import EntailmentDataset, TemDataset\n",
    "import numpy as np\n",
    "from evaluation_utils.utils import calculate_estimation_accuracy\n",
    "import plotly.graph_objects as go\n",
    "import matplotlib.pyplot as plt"
   ]
  },
  {
   "cell_type": "code",
   "execution_count": 2,
   "outputs": [],
   "source": [
    "ent = EntailmentDataset('/Users/julianassmann/Documents/Bachelor-Thesis/Code/datasets/ent_tem/rte.standardized.tsv',\n",
    "                            prefilter_mode=None)\n",
    "ent_filtered = EntailmentDataset('/Users/julianassmann/Documents/Bachelor-Thesis/Code/datasets/ent_tem/rte.standardized.tsv',\n",
    "                            prefilter_mode='majority_vote')\n",
    "tem = dataset = TemDataset('/Users/julianassmann/Documents/Bachelor-Thesis/Code/datasets/ent_tem/temp.standardized.tsv',\n",
    "                           prefilter_mode=None)\n",
    "tem_filtered = TemDataset('/Users/julianassmann/Documents/Bachelor-Thesis/Code/datasets/ent_tem/temp.standardized.tsv',\n",
    "                            prefilter_mode='majority_vote')\n",
    "\n",
    "ent_eval = ConfidenceEvaluatorNew(ent)\n",
    "ent_filtered_eval = ConfidenceEvaluatorNew(ent_filtered)\n",
    "tem_eval = ConfidenceEvaluatorNew(tem)\n",
    "tem_filtered_eval = ConfidenceEvaluatorNew(tem_filtered)"
   ],
   "metadata": {
    "collapsed": false,
    "pycharm": {
     "name": "#%%\n"
    }
   }
  },
  {
   "cell_type": "code",
   "execution_count": 3,
   "outputs": [
    {
     "name": "stdout",
     "output_type": "stream",
     "text": [
      "Confidence: 0.05\n",
      "\tent: 0.03048780487804878\n",
      "\tent filtered: 0.025\n",
      "\ttem: 0.10425531914893617\n"
     ]
    },
    {
     "name": "stderr",
     "output_type": "stream",
     "text": [
      "/Users/julianassmann/PycharmProjects/Bachelor/crowd_evaluation/evaluator_c.py:128: RuntimeWarning: invalid value encountered in true_divide\n",
      "  A = B / np.linalg.norm(B, ord=1)\n"
     ]
    },
    {
     "name": "stdout",
     "output_type": "stream",
     "text": [
      "\ttem filtered: 0.20402298850574713\n",
      "Confidence: 0.1\n",
      "\tent: 0.09146341463414634\n",
      "\tent filtered: 0.06875\n",
      "\ttem: 0.16170212765957448\n",
      "\ttem filtered: 0.21264367816091953\n",
      "Confidence: 0.15\n",
      "\tent: 0.16463414634146342\n",
      "\tent filtered: 0.09375\n",
      "\ttem: 0.19787234042553192\n",
      "\ttem filtered: 0.22701149425287356\n",
      "Confidence: 0.2\n",
      "\tent: 0.1951219512195122\n",
      "\tent filtered: 0.14375\n",
      "\ttem: 0.23829787234042554\n",
      "\ttem filtered: 0.25\n",
      "Confidence: 0.25\n",
      "\tent: 0.23780487804878048\n",
      "\tent filtered: 0.18125\n",
      "\ttem: 0.2531914893617021\n",
      "\ttem filtered: 0.25\n",
      "Confidence: 0.3\n",
      "\tent: 0.2804878048780488\n",
      "\tent filtered: 0.20625\n",
      "\ttem: 0.2702127659574468\n",
      "\ttem filtered: 0.28160919540229884\n",
      "Confidence: 0.35\n",
      "\tent: 0.3048780487804878\n",
      "\tent filtered: 0.225\n",
      "\ttem: 0.2872340425531915\n",
      "\ttem filtered: 0.2959770114942529\n",
      "Confidence: 0.4\n",
      "\tent: 0.3231707317073171\n",
      "\tent filtered: 0.25\n",
      "\ttem: 0.30425531914893617\n",
      "\ttem filtered: 0.3160919540229885\n",
      "Confidence: 0.45\n",
      "\tent: 0.34146341463414637\n",
      "\tent filtered: 0.275\n",
      "\ttem: 0.3170212765957447\n",
      "\ttem filtered: 0.3333333333333333\n",
      "Confidence: 0.5\n",
      "\tent: 0.36585365853658536\n",
      "\tent filtered: 0.2875\n",
      "\ttem: 0.33404255319148934\n",
      "\ttem filtered: 0.3505747126436782\n",
      "Confidence: 0.55\n",
      "\tent: 0.42073170731707316\n",
      "\tent filtered: 0.3125\n",
      "\ttem: 0.3468085106382979\n",
      "\ttem filtered: 0.3649425287356322\n",
      "Confidence: 0.6\n",
      "\tent: 0.45121951219512196\n",
      "\tent filtered: 0.35625\n",
      "\ttem: 0.37446808510638296\n",
      "\ttem filtered: 0.3936781609195402\n",
      "Confidence: 0.65\n",
      "\tent: 0.47560975609756095\n",
      "\tent filtered: 0.4125\n",
      "\ttem: 0.39574468085106385\n",
      "\ttem filtered: 0.40804597701149425\n",
      "Confidence: 0.7\n",
      "\tent: 0.5365853658536586\n",
      "\tent filtered: 0.45625\n",
      "\ttem: 0.42340425531914894\n",
      "\ttem filtered: 0.42528735632183906\n",
      "Confidence: 0.75\n",
      "\tent: 0.5548780487804879\n",
      "\tent filtered: 0.49375\n",
      "\ttem: 0.44680851063829785\n",
      "\ttem filtered: 0.4482758620689655\n",
      "Confidence: 0.8\n",
      "\tent: 0.5914634146341463\n",
      "\tent filtered: 0.51875\n",
      "\ttem: 0.46382978723404256\n",
      "\ttem filtered: 0.46839080459770116\n",
      "Confidence: 0.85\n",
      "\tent: 0.6463414634146342\n",
      "\tent filtered: 0.55625\n",
      "\ttem: 0.4851063829787234\n",
      "\ttem filtered: 0.5172413793103449\n",
      "Confidence: 0.9\n",
      "\tent: 0.6890243902439024\n",
      "\tent filtered: 0.6125\n",
      "\ttem: 0.5085106382978724\n",
      "\ttem filtered: 0.5258620689655172\n",
      "Confidence: 0.95\n",
      "\tent: 0.7317073170731707\n",
      "\tent filtered: 0.65\n",
      "\ttem: 0.5276595744680851\n",
      "\ttem filtered: 0.5488505747126436\n"
     ]
    }
   ],
   "source": [
    "from evaluation_utils.utils import calculate_estimation_accuracy\n",
    "\n",
    "ent_accuracies = []\n",
    "ent_filtered_accuracies = []\n",
    "tem_accuracies = []\n",
    "tem_filtered_accuracies = []\n",
    "\n",
    "confidence_levels = np.arange(5, 100, step=5) / 100.0\n",
    "\n",
    "for c in confidence_levels:\n",
    "    print('Confidence:', c)\n",
    "\n",
    "    ent_ps, ent_confs = ent_eval.evaluate_workers(ent.workers, c)\n",
    "    ent_accuracy = calculate_estimation_accuracy(\n",
    "        ent.get_measured_error_rates_for_workers(ent.workers),\n",
    "        ent_ps, ent_confs)\n",
    "    ent_accuracies.append(ent_accuracy)\n",
    "    print('\\tent:', ent_accuracy)\n",
    "\n",
    "    ent_filtered_cs, ent_filtered_confs = ent_filtered_eval.evaluate_workers(ent_filtered.workers, c)\n",
    "    ent_filtered_accuracy = calculate_estimation_accuracy(\n",
    "        ent_filtered.get_measured_error_rates_for_workers(ent_filtered.workers),\n",
    "        ent_filtered_cs, ent_filtered_confs)\n",
    "    ent_filtered_accuracies.append(ent_filtered_accuracy)\n",
    "    print('\\tent filtered:', ent_filtered_accuracy)\n",
    "\n",
    "    tem_cs, tem_confs = tem_eval.evaluate_workers(tem.workers, c)\n",
    "    tem_accuracy = calculate_estimation_accuracy(\n",
    "        tem.get_measured_error_rates_for_workers(tem.workers),\n",
    "        tem_cs, tem_confs)\n",
    "    tem_accuracies.append(tem_accuracy)\n",
    "    print('\\ttem:', tem_accuracy)\n",
    "\n",
    "    tem_filtered_cs, tem_filtered_confs = tem_filtered_eval.evaluate_workers(tem_filtered.workers, c)\n",
    "    tem_filtered_accuracy = calculate_estimation_accuracy(\n",
    "        tem_filtered.get_measured_error_rates_for_workers(tem_filtered.workers),\n",
    "        tem_filtered_cs, tem_filtered_confs)\n",
    "    tem_filtered_accuracies.append(tem_filtered_accuracy)\n",
    "    print('\\ttem filtered:', tem_filtered_accuracy)\n"
   ],
   "metadata": {
    "collapsed": false,
    "pycharm": {
     "name": "#%%\n"
    }
   }
  },
  {
   "cell_type": "code",
   "execution_count": null,
   "outputs": [],
   "source": [
    "plt.plot(confidence_levels, confidence_levels, label='ideal interval-accuracy')\n",
    "plt.plot(confidence_levels, tem_accuracies, label='Temporal')\n",
    "plt.plot(confidence_levels, tem_filtered_accuracies, label='Temporal (filtered)')\n",
    "plt.plot(confidence_levels, ent_accuracies, label='Entailment')\n",
    "plt.plot(confidence_levels, ent_filtered_accuracies, label='Entailment (filtered)')\n",
    "plt.xlabel('confidence level')\n",
    "plt.ylabel('accuracy')\n",
    "plt.legend()\n",
    "plt.show()"
   ],
   "metadata": {
    "collapsed": false,
    "pycharm": {
     "name": "#%%\n",
     "is_executing": true
    }
   }
  },
  {
   "cell_type": "code",
   "execution_count": null,
   "outputs": [],
   "source": [
    "import plotly.express as px\n",
    "\n",
    "fig = go.Figure()\n",
    "fig.add_trace(go.Scatter(x=confidence_levels, y=confidence_levels, name=\"optimal\"))\n",
    "fig.add_trace(go.Scatter(x=confidence_levels, y=tem_accuracies, name=\"TEM\"))\n",
    "fig.add_trace(go.Scatter(x=confidence_levels, y=tem_filtered_accuracies, name=\"TEM (filtered)\"))\n",
    "fig.add_trace(go.Scatter(x=confidence_levels, y=ent_accuracies, name=\"ENT\"))\n",
    "fig.add_trace(go.Scatter(x=confidence_levels, y=ent_filtered_accuracies, name=\"ENT (filtered)\"))\n",
    "fig.update_layout(\n",
    "    title=\"Plot Title\",\n",
    "    xaxis_title=\"confidence level\",\n",
    "    yaxis_title=\"accuracy\",\n",
    "    legend_title=\"\",\n",
    ")\n",
    "fig.show()"
   ],
   "metadata": {
    "collapsed": false,
    "pycharm": {
     "name": "#%%\n",
     "is_executing": true
    }
   }
  },
  {
   "cell_type": "code",
   "execution_count": null,
   "outputs": [],
   "source": [],
   "metadata": {
    "collapsed": false,
    "pycharm": {
     "name": "#%%\n"
    }
   }
  }
 ],
 "metadata": {
  "kernelspec": {
   "display_name": "Python 3",
   "language": "python",
   "name": "python3"
  },
  "language_info": {
   "codemirror_mode": {
    "name": "ipython",
    "version": 2
   },
   "file_extension": ".py",
   "mimetype": "text/x-python",
   "name": "python",
   "nbconvert_exporter": "python",
   "pygments_lexer": "ipython2",
   "version": "2.7.6"
  }
 },
 "nbformat": 4,
 "nbformat_minor": 0
}