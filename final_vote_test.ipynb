{
 "cells": [
  {
   "cell_type": "code",
   "execution_count": 1,
   "metadata": {
    "collapsed": true
   },
   "outputs": [],
   "source": [
    "from datasets import SyntheticDataset\n",
    "from crowd_evaluation import ConfidenceEvaluatorC, VoteAggregator, OldEvaluator\n",
    "import numpy as np"
   ]
  },
  {
   "cell_type": "code",
   "execution_count": 2,
   "outputs": [],
   "source": [
    "num_workers = 10\n",
    "\n",
    "for i in range(10):\n",
    "    print(stdr(i*10) + '% of workers have ')\n",
    "    p_true = np.random.choice([0.1, 0.3], p=[i/10, 1-(i/10)],size=num_workers)\n",
    "    dataset = SyntheticDataset(10000, num_workers, sample_fractions=[1]*num_workers, p_true=p_true)\n",
    "\n",
    "    evaluator = ConfidenceEvaluatorC(dataset)\n",
    "    ps, confs = evaluator.evaluate_workers_with_confidence(dataset.workers)"
   ],
   "metadata": {
    "collapsed": false,
    "pycharm": {
     "name": "#%%\n"
    }
   }
  },
  {
   "cell_type": "code",
   "execution_count": 3,
   "outputs": [],
   "source": [],
   "metadata": {
    "collapsed": false,
    "pycharm": {
     "name": "#%%\n"
    }
   }
  },
  {
   "cell_type": "code",
   "execution_count": 4,
   "outputs": [
    {
     "data": {
      "text/plain": "(array([0.09481797, 0.10759041, 0.29407573, 0.10905329, 0.10587706,\n        0.29295155, 0.10692994, 0.30016267, 0.1058267 , 0.10051227,\n        0.28503004, 0.30233675, 0.09711064, 0.09562733, 0.30275726,\n        0.30813056, 0.30440468, 0.29404747, 0.29060644, 0.31258562],\n       dtype=float32),\n array([0.01532876, 0.01403933, 0.01575967, 0.01400133, 0.00652542,\n        0.0075935 , 0.01302642, 0.00739347, 0.01189923, 0.00658251,\n        0.01453413, 0.01420352, 0.01432268, 0.0061214 , 0.01451692,\n        0.01405237, 0.0147819 , 0.01589864, 0.00723715, 0.01511974],\n       dtype=float32))"
     },
     "execution_count": 4,
     "metadata": {},
     "output_type": "execute_result"
    }
   ],
   "source": [
    "ps, confs"
   ],
   "metadata": {
    "collapsed": false,
    "pycharm": {
     "name": "#%%\n"
    }
   }
  },
  {
   "cell_type": "code",
   "execution_count": 5,
   "outputs": [
    {
     "data": {
      "text/plain": "array([0.00518203, 0.00759041, 0.00592427, 0.00905329, 0.00587706,\n       0.00704845, 0.00692994, 0.00016267, 0.0058267 , 0.00051227,\n       0.01496996, 0.00233675, 0.00288936, 0.00437267, 0.00275726,\n       0.00813056, 0.00440468, 0.00595253, 0.00939356, 0.01258562])"
     },
     "execution_count": 5,
     "metadata": {},
     "output_type": "execute_result"
    }
   ],
   "source": [
    "np.abs(ps - dataset.get_true_error_rates_for_workers(dataset.workers))"
   ],
   "metadata": {
    "collapsed": false,
    "pycharm": {
     "name": "#%%\n"
    }
   }
  },
  {
   "cell_type": "code",
   "execution_count": 6,
   "outputs": [
    {
     "data": {
      "text/plain": "array([[ 2],\n       [ 5],\n       [ 7],\n       [10],\n       [11],\n       [14],\n       [15],\n       [16],\n       [17],\n       [18],\n       [19]])"
     },
     "execution_count": 6,
     "metadata": {},
     "output_type": "execute_result"
    }
   ],
   "source": [
    "blocklist = np.argwhere((ps+confs)>0.15)\n",
    "blocklist"
   ],
   "metadata": {
    "collapsed": false,
    "pycharm": {
     "name": "#%%\n"
    }
   }
  },
  {
   "cell_type": "code",
   "execution_count": 7,
   "outputs": [],
   "source": [
    "aggregator = VoteAggregator(dataset)\n",
    "majority_vote = aggregator.majority_vote(dataset.samples)\n",
    "smart_vote = aggregator.weighted_vote(dataset.samples, dataset, ps, 0.5)\n",
    "smart_vote_blocked = aggregator.weighted_vote(dataset.samples, dataset, ps, 0.5, blocked_workers=blocklist)\n",
    "truth = dataset.get_ground_truth_for_samples(dataset.samples)"
   ],
   "metadata": {
    "collapsed": false,
    "pycharm": {
     "name": "#%%\n"
    }
   }
  },
  {
   "cell_type": "code",
   "execution_count": 8,
   "outputs": [
    {
     "data": {
      "text/plain": "0.9992"
     },
     "execution_count": 8,
     "metadata": {},
     "output_type": "execute_result"
    }
   ],
   "source": [
    "np.count_nonzero(np.where(truth == majority_vote, 1, 0)) / len(truth)"
   ],
   "metadata": {
    "collapsed": false,
    "pycharm": {
     "name": "#%%\n"
    }
   }
  },
  {
   "cell_type": "code",
   "execution_count": 9,
   "outputs": [
    {
     "data": {
      "text/plain": "0.9998"
     },
     "execution_count": 9,
     "metadata": {},
     "output_type": "execute_result"
    }
   ],
   "source": [
    "np.count_nonzero(np.where(truth == smart_vote, 1, 0)) / len(truth)"
   ],
   "metadata": {
    "collapsed": false,
    "pycharm": {
     "name": "#%%\n"
    }
   }
  },
  {
   "cell_type": "code",
   "execution_count": 10,
   "outputs": [
    {
     "data": {
      "text/plain": "0.9992"
     },
     "execution_count": 10,
     "metadata": {},
     "output_type": "execute_result"
    }
   ],
   "source": [
    "np.count_nonzero(np.where(truth == smart_vote_blocked, 1, 0)) / len(truth)"
   ],
   "metadata": {
    "collapsed": false,
    "pycharm": {
     "name": "#%%\n"
    }
   }
  },
  {
   "cell_type": "code",
   "execution_count": 10,
   "outputs": [],
   "source": [],
   "metadata": {
    "collapsed": false,
    "pycharm": {
     "name": "#%%\n"
    }
   }
  }
 ],
 "metadata": {
  "kernelspec": {
   "display_name": "Python 3",
   "language": "python",
   "name": "python3"
  },
  "language_info": {
   "codemirror_mode": {
    "name": "ipython",
    "version": 2
   },
   "file_extension": ".py",
   "mimetype": "text/x-python",
   "name": "python",
   "nbconvert_exporter": "python",
   "pygments_lexer": "ipython2",
   "version": "2.7.6"
  }
 },
 "nbformat": 4,
 "nbformat_minor": 0
}