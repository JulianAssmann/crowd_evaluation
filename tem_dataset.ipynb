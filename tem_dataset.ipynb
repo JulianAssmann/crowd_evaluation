{
 "cells": [
  {
   "cell_type": "code",
   "execution_count": 9,
   "metadata": {
    "collapsed": true
   },
   "outputs": [],
   "source": [
    "import pandas as pd\n",
    "import numpy as np"
   ]
  },
  {
   "cell_type": "code",
   "execution_count": 2,
   "outputs": [
    {
     "data": {
      "text/plain": "                           !amt_annotation_ids !amt_worker_ids orig_id  \\\n0     1Z0ZWAY8NYBZJWY7FX302YKE055D9GPWYZ0PBZ40  A2HTGQE4AACVRV    42_0   \n1     1Z0ZWAY8NYBZJWY7FX30PRAZNZYKT9ZZ7KC9Z3AZ   AYHHOK9GDSWNH    42_0   \n2     1Z0ZWAY8NYBZJWY7FX30G0PZ28ZQ106ZGBYHSY8Z  A1QRQZWBL1SVEX    42_0   \n3     1Z0ZWAY8NYBZJWY7FX30BY0PNWYK0S2ZSADRYXP0  A3G0MGLBT484I1    42_0   \n4     1Z0ZWAY8NYBZJWY7FX30HHZZVJ45HJC2T1ZWTZ20   A7NC1H5ZK7TO0    42_0   \n...                                        ...             ...     ...   \n4615  BW9ZRRHWAW4ZRW9QXRB060WZKEZ2V3DZX3YXAY70  A3MPXWFMR0Y2LK     1_1   \n4616  BW9ZRRHWAW4ZRW9QXRB0SY5ZZKGQV1PEMZ43TW6Z  A32IZC32FQKVRX     1_1   \n4617  BW9ZRRHWAW4ZRW9QXRB0QTRZWTHSQY3P095Q4X10  A3PIXX8DQGYHGI     1_1   \n4618  BW9ZRRHWAW4ZRW9QXRB0XWWY5MYE5WFZYJZ8CZRZ  A11GX90QFWDLMM     1_1   \n4619  BW9ZRRHWAW4ZRW9QXRB0GWQ4T1S2FVHZ18Y4EW90  A18941IO2ZZWW6     1_1   \n\n      response  gold  \n0            1     1  \n1            1     1  \n2            1     1  \n3            1     1  \n4            1     1  \n...        ...   ...  \n4615         1     1  \n4616         1     1  \n4617         2     1  \n4618         2     1  \n4619         2     1  \n\n[4620 rows x 5 columns]",
      "text/html": "<div>\n<style scoped>\n    .dataframe tbody tr th:only-of-type {\n        vertical-align: middle;\n    }\n\n    .dataframe tbody tr th {\n        vertical-align: top;\n    }\n\n    .dataframe thead th {\n        text-align: right;\n    }\n</style>\n<table border=\"1\" class=\"dataframe\">\n  <thead>\n    <tr style=\"text-align: right;\">\n      <th></th>\n      <th>!amt_annotation_ids</th>\n      <th>!amt_worker_ids</th>\n      <th>orig_id</th>\n      <th>response</th>\n      <th>gold</th>\n    </tr>\n  </thead>\n  <tbody>\n    <tr>\n      <th>0</th>\n      <td>1Z0ZWAY8NYBZJWY7FX302YKE055D9GPWYZ0PBZ40</td>\n      <td>A2HTGQE4AACVRV</td>\n      <td>42_0</td>\n      <td>1</td>\n      <td>1</td>\n    </tr>\n    <tr>\n      <th>1</th>\n      <td>1Z0ZWAY8NYBZJWY7FX30PRAZNZYKT9ZZ7KC9Z3AZ</td>\n      <td>AYHHOK9GDSWNH</td>\n      <td>42_0</td>\n      <td>1</td>\n      <td>1</td>\n    </tr>\n    <tr>\n      <th>2</th>\n      <td>1Z0ZWAY8NYBZJWY7FX30G0PZ28ZQ106ZGBYHSY8Z</td>\n      <td>A1QRQZWBL1SVEX</td>\n      <td>42_0</td>\n      <td>1</td>\n      <td>1</td>\n    </tr>\n    <tr>\n      <th>3</th>\n      <td>1Z0ZWAY8NYBZJWY7FX30BY0PNWYK0S2ZSADRYXP0</td>\n      <td>A3G0MGLBT484I1</td>\n      <td>42_0</td>\n      <td>1</td>\n      <td>1</td>\n    </tr>\n    <tr>\n      <th>4</th>\n      <td>1Z0ZWAY8NYBZJWY7FX30HHZZVJ45HJC2T1ZWTZ20</td>\n      <td>A7NC1H5ZK7TO0</td>\n      <td>42_0</td>\n      <td>1</td>\n      <td>1</td>\n    </tr>\n    <tr>\n      <th>...</th>\n      <td>...</td>\n      <td>...</td>\n      <td>...</td>\n      <td>...</td>\n      <td>...</td>\n    </tr>\n    <tr>\n      <th>4615</th>\n      <td>BW9ZRRHWAW4ZRW9QXRB060WZKEZ2V3DZX3YXAY70</td>\n      <td>A3MPXWFMR0Y2LK</td>\n      <td>1_1</td>\n      <td>1</td>\n      <td>1</td>\n    </tr>\n    <tr>\n      <th>4616</th>\n      <td>BW9ZRRHWAW4ZRW9QXRB0SY5ZZKGQV1PEMZ43TW6Z</td>\n      <td>A32IZC32FQKVRX</td>\n      <td>1_1</td>\n      <td>1</td>\n      <td>1</td>\n    </tr>\n    <tr>\n      <th>4617</th>\n      <td>BW9ZRRHWAW4ZRW9QXRB0QTRZWTHSQY3P095Q4X10</td>\n      <td>A3PIXX8DQGYHGI</td>\n      <td>1_1</td>\n      <td>2</td>\n      <td>1</td>\n    </tr>\n    <tr>\n      <th>4618</th>\n      <td>BW9ZRRHWAW4ZRW9QXRB0XWWY5MYE5WFZYJZ8CZRZ</td>\n      <td>A11GX90QFWDLMM</td>\n      <td>1_1</td>\n      <td>2</td>\n      <td>1</td>\n    </tr>\n    <tr>\n      <th>4619</th>\n      <td>BW9ZRRHWAW4ZRW9QXRB0GWQ4T1S2FVHZ18Y4EW90</td>\n      <td>A18941IO2ZZWW6</td>\n      <td>1_1</td>\n      <td>2</td>\n      <td>1</td>\n    </tr>\n  </tbody>\n</table>\n<p>4620 rows × 5 columns</p>\n</div>"
     },
     "execution_count": 2,
     "metadata": {},
     "output_type": "execute_result"
    }
   ],
   "source": [
    "df = pd.read_csv('/Users/julianassmann/Documents/Bachelor-Thesis/Code/datasets/ent_tem/temp.standardized.tsv', delimiter='\\t')\n",
    "df"
   ],
   "metadata": {
    "collapsed": false,
    "pycharm": {
     "name": "#%%\n"
    }
   }
  },
  {
   "cell_type": "code",
   "execution_count": 3,
   "outputs": [],
   "source": [
    "df.rename(columns={'!amt_annotation_ids': 'worker', 'orig_id': 'sample', 'gold': 'truth', 'response': 'answer'}, inplace=True)\n",
    "df.drop(columns=['!amt_worker_ids'], inplace=True)\n",
    "worker_names_to_int_map = {w: i for (i, w) in enumerate(df['worker'].unique())}\n",
    "df = df.replace({'worker': worker_names_to_int_map})"
   ],
   "metadata": {
    "collapsed": false,
    "pycharm": {
     "name": "#%%\n"
    }
   }
  },
  {
   "cell_type": "code",
   "execution_count": 22,
   "outputs": [
    {
     "data": {
      "text/plain": "     worker sample  answer  truth\n370     100   84_1       2      2\n371     101   84_1       1      2\n372     102   84_1       2      2\n373     103   84_1       1      2\n374     104   84_1       1      2\n375     105   84_1       1      2\n376     106   84_1       2      2\n377     107   84_1       2      2\n378     108   84_1       2      2\n379     109   84_1       2      2",
      "text/html": "<div>\n<style scoped>\n    .dataframe tbody tr th:only-of-type {\n        vertical-align: middle;\n    }\n\n    .dataframe tbody tr th {\n        vertical-align: top;\n    }\n\n    .dataframe thead th {\n        text-align: right;\n    }\n</style>\n<table border=\"1\" class=\"dataframe\">\n  <thead>\n    <tr style=\"text-align: right;\">\n      <th></th>\n      <th>worker</th>\n      <th>sample</th>\n      <th>answer</th>\n      <th>truth</th>\n    </tr>\n  </thead>\n  <tbody>\n    <tr>\n      <th>370</th>\n      <td>100</td>\n      <td>84_1</td>\n      <td>2</td>\n      <td>2</td>\n    </tr>\n    <tr>\n      <th>371</th>\n      <td>101</td>\n      <td>84_1</td>\n      <td>1</td>\n      <td>2</td>\n    </tr>\n    <tr>\n      <th>372</th>\n      <td>102</td>\n      <td>84_1</td>\n      <td>2</td>\n      <td>2</td>\n    </tr>\n    <tr>\n      <th>373</th>\n      <td>103</td>\n      <td>84_1</td>\n      <td>1</td>\n      <td>2</td>\n    </tr>\n    <tr>\n      <th>374</th>\n      <td>104</td>\n      <td>84_1</td>\n      <td>1</td>\n      <td>2</td>\n    </tr>\n    <tr>\n      <th>375</th>\n      <td>105</td>\n      <td>84_1</td>\n      <td>1</td>\n      <td>2</td>\n    </tr>\n    <tr>\n      <th>376</th>\n      <td>106</td>\n      <td>84_1</td>\n      <td>2</td>\n      <td>2</td>\n    </tr>\n    <tr>\n      <th>377</th>\n      <td>107</td>\n      <td>84_1</td>\n      <td>2</td>\n      <td>2</td>\n    </tr>\n    <tr>\n      <th>378</th>\n      <td>108</td>\n      <td>84_1</td>\n      <td>2</td>\n      <td>2</td>\n    </tr>\n    <tr>\n      <th>379</th>\n      <td>109</td>\n      <td>84_1</td>\n      <td>2</td>\n      <td>2</td>\n    </tr>\n  </tbody>\n</table>\n</div>"
     },
     "execution_count": 22,
     "metadata": {},
     "output_type": "execute_result"
    }
   ],
   "source": [
    "sample = '84_1'\n",
    "sample_df = df[df['sample'] == sample]\n",
    "sample_df"
   ],
   "metadata": {
    "collapsed": false,
    "pycharm": {
     "name": "#%%\n"
    }
   }
  },
  {
   "cell_type": "code",
   "execution_count": 25,
   "outputs": [
    {
     "data": {
      "text/plain": "2"
     },
     "execution_count": 25,
     "metadata": {},
     "output_type": "execute_result"
    }
   ],
   "source": [
    "sample_df['answer'].value_counts().index[0]"
   ],
   "metadata": {
    "collapsed": false,
    "pycharm": {
     "name": "#%%\n"
    }
   }
  },
  {
   "cell_type": "code",
   "execution_count": null,
   "outputs": [],
   "source": [],
   "metadata": {
    "collapsed": false,
    "pycharm": {
     "name": "#%%\n"
    }
   }
  }
 ],
 "metadata": {
  "kernelspec": {
   "display_name": "Python 3",
   "language": "python",
   "name": "python3"
  },
  "language_info": {
   "codemirror_mode": {
    "name": "ipython",
    "version": 2
   },
   "file_extension": ".py",
   "mimetype": "text/x-python",
   "name": "python",
   "nbconvert_exporter": "python",
   "pygments_lexer": "ipython2",
   "version": "2.7.6"
  }
 },
 "nbformat": 4,
 "nbformat_minor": 0
}