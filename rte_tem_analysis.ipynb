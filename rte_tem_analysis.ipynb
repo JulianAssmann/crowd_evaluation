{
 "cells": [
  {
   "cell_type": "code",
   "execution_count": 1,
   "metadata": {
    "collapsed": true
   },
   "outputs": [],
   "source": [
    "import pandas as pd\n",
    "\n",
    "from crowd_evaluation import EvaluatorC\n",
    "from datasets import EntailmentDataset, TemDataset\n",
    "import numpy as np\n",
    "from evaluation_utils.utils import calculate_estimation_accuracy\n",
    "import plotly.graph_objects as go\n",
    "import matplotlib.pyplot as plt"
   ]
  },
  {
   "cell_type": "code",
   "execution_count": 2,
   "outputs": [],
   "source": [
    "ent = EntailmentDataset('/Users/julianassmann/Documents/Bachelor-Thesis/Code/datasets/ent_tem/rte.standardized.tsv',\n",
    "                            prefilter_mode=None)\n",
    "ent_filtered = EntailmentDataset('/Users/julianassmann/Documents/Bachelor-Thesis/Code/datasets/ent_tem/rte.standardized.tsv',\n",
    "                            prefilter_mode='majority_vote')\n",
    "tem = dataset = TemDataset('/Users/julianassmann/Documents/Bachelor-Thesis/Code/datasets/ent_tem/temp.standardized.tsv',\n",
    "                           prefilter_mode=None)\n",
    "tem_filtered = TemDataset('/Users/julianassmann/Documents/Bachelor-Thesis/Code/datasets/ent_tem/temp.standardized.tsv',\n",
    "                            prefilter_mode='majority_vote')\n",
    "\n",
    "ent_eval = EvaluatorC(ent)\n",
    "ent_filtered_eval = EvaluatorC(ent_filtered)\n",
    "tem_eval = EvaluatorC(tem)\n",
    "tem_filtered_eval = EvaluatorC(tem_filtered)"
   ],
   "metadata": {
    "collapsed": false,
    "pycharm": {
     "name": "#%%\n"
    }
   }
  },
  {
   "cell_type": "code",
   "execution_count": 3,
   "outputs": [
    {
     "name": "stdout",
     "output_type": "stream",
     "text": [
      "Confidence: 0.05\n",
      "\tent: 0.03048780487804878\n",
      "\tent filtered: 0.025\n",
      "\ttem: 0.10425531914893617\n"
     ]
    },
    {
     "name": "stderr",
     "output_type": "stream",
     "text": [
      "/Users/julianassmann/PycharmProjects/Bachelor/crowd_evaluation/evaluator_c.py:128: RuntimeWarning: invalid value encountered in true_divide\n",
      "  A = B / np.linalg.norm(B, ord=1)\n"
     ]
    },
    {
     "name": "stdout",
     "output_type": "stream",
     "text": [
      "\ttem filtered: 0.20402298850574713\n",
      "Confidence: 0.1\n",
      "\tent: 0.09146341463414634\n",
      "\tent filtered: 0.06875\n",
      "\ttem: 0.16170212765957448\n",
      "\ttem filtered: 0.21264367816091953\n",
      "Confidence: 0.15\n",
      "\tent: 0.16463414634146342\n",
      "\tent filtered: 0.09375\n",
      "\ttem: 0.19787234042553192\n",
      "\ttem filtered: 0.22701149425287356\n",
      "Confidence: 0.2\n",
      "\tent: 0.1951219512195122\n",
      "\tent filtered: 0.14375\n",
      "\ttem: 0.23829787234042554\n",
      "\ttem filtered: 0.25\n",
      "Confidence: 0.25\n",
      "\tent: 0.23780487804878048\n",
      "\tent filtered: 0.18125\n",
      "\ttem: 0.2531914893617021\n",
      "\ttem filtered: 0.25\n",
      "Confidence: 0.3\n",
      "\tent: 0.2804878048780488\n",
      "\tent filtered: 0.20625\n",
      "\ttem: 0.2702127659574468\n",
      "\ttem filtered: 0.28160919540229884\n",
      "Confidence: 0.35\n",
      "\tent: 0.3048780487804878\n",
      "\tent filtered: 0.225\n",
      "\ttem: 0.2872340425531915\n",
      "\ttem filtered: 0.2959770114942529\n",
      "Confidence: 0.4\n",
      "\tent: 0.3231707317073171\n",
      "\tent filtered: 0.25\n",
      "\ttem: 0.30425531914893617\n",
      "\ttem filtered: 0.3160919540229885\n",
      "Confidence: 0.45\n",
      "\tent: 0.34146341463414637\n",
      "\tent filtered: 0.275\n",
      "\ttem: 0.3170212765957447\n",
      "\ttem filtered: 0.3333333333333333\n",
      "Confidence: 0.5\n",
      "\tent: 0.36585365853658536\n",
      "\tent filtered: 0.2875\n",
      "\ttem: 0.33404255319148934\n",
      "\ttem filtered: 0.3505747126436782\n",
      "Confidence: 0.55\n",
      "\tent: 0.42073170731707316\n",
      "\tent filtered: 0.3125\n",
      "\ttem: 0.3468085106382979\n",
      "\ttem filtered: 0.3649425287356322\n",
      "Confidence: 0.6\n",
      "\tent: 0.45121951219512196\n",
      "\tent filtered: 0.35625\n",
      "\ttem: 0.37446808510638296\n",
      "\ttem filtered: 0.3936781609195402\n",
      "Confidence: 0.65\n",
      "\tent: 0.47560975609756095\n",
      "\tent filtered: 0.4125\n",
      "\ttem: 0.39574468085106385\n",
      "\ttem filtered: 0.40804597701149425\n",
      "Confidence: 0.7\n",
      "\tent: 0.5365853658536586\n",
      "\tent filtered: 0.45625\n",
      "\ttem: 0.42340425531914894\n",
      "\ttem filtered: 0.42528735632183906\n",
      "Confidence: 0.75\n",
      "\tent: 0.5548780487804879\n",
      "\tent filtered: 0.49375\n",
      "\ttem: 0.44680851063829785\n",
      "\ttem filtered: 0.4482758620689655\n",
      "Confidence: 0.8\n",
      "\tent: 0.5914634146341463\n",
      "\tent filtered: 0.51875\n",
      "\ttem: 0.46382978723404256\n",
      "\ttem filtered: 0.46839080459770116\n",
      "Confidence: 0.85\n",
      "\tent: 0.6463414634146342\n",
      "\tent filtered: 0.55625\n",
      "\ttem: 0.4851063829787234\n",
      "\ttem filtered: 0.5172413793103449\n",
      "Confidence: 0.9\n",
      "\tent: 0.6890243902439024\n",
      "\tent filtered: 0.6125\n",
      "\ttem: 0.5085106382978724\n",
      "\ttem filtered: 0.5258620689655172\n",
      "Confidence: 0.95\n",
      "\tent: 0.7317073170731707\n",
      "\tent filtered: 0.65\n",
      "\ttem: 0.5276595744680851\n",
      "\ttem filtered: 0.5488505747126436\n"
     ]
    }
   ],
   "source": [
    "from evaluation_utils.utils import calculate_estimation_accuracy\n",
    "\n",
    "ent_accuracies = []\n",
    "ent_filtered_accuracies = []\n",
    "tem_accuracies = []\n",
    "tem_filtered_accuracies = []\n",
    "\n",
    "confidence_levels = np.arange(5, 100, step=5) / 100.0\n",
    "\n",
    "for c in confidence_levels:\n",
    "    print('Confidence:', c)\n",
    "\n",
    "    ent_ps, ent_confs = ent_eval.evaluate_workers(ent.workers, c)\n",
    "    ent_accuracy = calculate_estimation_accuracy(\n",
    "        ent.get_measured_error_rates_for_workers(ent.workers),\n",
    "        ent_ps, ent_confs)\n",
    "    ent_accuracies.append(ent_accuracy)\n",
    "    print('\\tent:', ent_accuracy)\n",
    "\n",
    "    ent_filtered_cs, ent_filtered_confs = ent_filtered_eval.evaluate_workers(ent_filtered.workers, c)\n",
    "    ent_filtered_accuracy = calculate_estimation_accuracy(\n",
    "        ent_filtered.get_measured_error_rates_for_workers(ent_filtered.workers),\n",
    "        ent_filtered_cs, ent_filtered_confs)\n",
    "    ent_filtered_accuracies.append(ent_filtered_accuracy)\n",
    "    print('\\tent filtered:', ent_filtered_accuracy)\n",
    "\n",
    "    tem_cs, tem_confs = tem_eval.evaluate_workers(tem.workers, c)\n",
    "    tem_accuracy = calculate_estimation_accuracy(\n",
    "        tem.get_measured_error_rates_for_workers(tem.workers),\n",
    "        tem_cs, tem_confs)\n",
    "    tem_accuracies.append(tem_accuracy)\n",
    "    print('\\ttem:', tem_accuracy)\n",
    "\n",
    "    tem_filtered_cs, tem_filtered_confs = tem_filtered_eval.evaluate_workers(tem_filtered.workers, c)\n",
    "    tem_filtered_accuracy = calculate_estimation_accuracy(\n",
    "        tem_filtered.get_measured_error_rates_for_workers(tem_filtered.workers),\n",
    "        tem_filtered_cs, tem_filtered_confs)\n",
    "    tem_filtered_accuracies.append(tem_filtered_accuracy)\n",
    "    print('\\ttem filtered:', tem_filtered_accuracy)\n"
   ],
   "metadata": {
    "collapsed": false,
    "pycharm": {
     "name": "#%%\n"
    }
   }
  },
  {
   "cell_type": "code",
   "execution_count": 4,
   "outputs": [
    {
     "data": {
      "text/plain": "<Figure size 432x288 with 1 Axes>",
      "image/png": "[encoded data removed]"
     },
     "metadata": {
      "needs_background": "light"
     },
     "output_type": "display_data"
    }
   ],
   "source": [
    "plt.plot(confidence_levels, confidence_levels, label='ideal interval-accuracy')\n",
    "plt.plot(confidence_levels, tem_accuracies, label='Temporal')\n",
    "plt.plot(confidence_levels, tem_filtered_accuracies, label='Temporal (filtered)')\n",
    "plt.plot(confidence_levels, ent_accuracies, label='Entailment')\n",
    "plt.plot(confidence_levels, ent_filtered_accuracies, label='Entailment (filtered)')\n",
    "plt.xlabel('confidence level')\n",
    "plt.ylabel('accuracy')\n",
    "plt.legend()\n",
    "plt.show()"
   ],
   "metadata": {
    "collapsed": false,
    "pycharm": {
     "name": "#%%\n"
    }
   }
  },
  {
   "cell_type": "code",
   "execution_count": 25,
   "outputs": [
    {
     "data": {
      "application/vnd.plotly.v1+json": {
       "data": [
        {
         "name": "optimal",
         "x": [
          0.05,
          0.1,
          0.15,
          0.2,
          0.25,
          0.3,
          0.35,
          0.4,
          0.45,
          0.5,
          0.55,
          0.6,
          0.65,
          0.7,
          0.75,
          0.8,
          0.85,
          0.9,
          0.95
         ],
         "y": [
          0.05,
          0.1,
          0.15,
          0.2,
          0.25,
          0.3,
          0.35,
          0.4,
          0.45,
          0.5,
          0.55,
          0.6,
          0.65,
          0.7,
          0.75,
          0.8,
          0.85,
          0.9,
          0.95
         ],
         "type": "scatter"
        },
        {
         "name": "TEM",
         "x": [
          0.05,
          0.1,
          0.15,
          0.2,
          0.25,
          0.3,
          0.35,
          0.4,
          0.45,
          0.5,
          0.55,
          0.6,
          0.65,
          0.7,
          0.75,
          0.8,
          0.85,
          0.9,
          0.95
         ],
         "y": [
          0.10425531914893617,
          0.16170212765957448,
          0.19787234042553192,
          0.23829787234042554,
          0.2531914893617021,
          0.2702127659574468,
          0.2872340425531915,
          0.30425531914893617,
          0.3170212765957447,
          0.33404255319148934,
          0.3468085106382979,
          0.37446808510638296,
          0.39574468085106385,
          0.42340425531914894,
          0.44680851063829785,
          0.46382978723404256,
          0.4851063829787234,
          0.5085106382978724,
          0.5276595744680851
         ],
         "type": "scatter"
        },
        {
         "name": "TEM (filtered)",
         "x": [
          0.05,
          0.1,
          0.15,
          0.2,
          0.25,
          0.3,
          0.35,
          0.4,
          0.45,
          0.5,
          0.55,
          0.6,
          0.65,
          0.7,
          0.75,
          0.8,
          0.85,
          0.9,
          0.95
         ],
         "y": [
          0.20402298850574713,
          0.21264367816091953,
          0.22701149425287356,
          0.25,
          0.25,
          0.28160919540229884,
          0.2959770114942529,
          0.3160919540229885,
          0.3333333333333333,
          0.3505747126436782,
          0.3649425287356322,
          0.3936781609195402,
          0.40804597701149425,
          0.42528735632183906,
          0.4482758620689655,
          0.46839080459770116,
          0.5172413793103449,
          0.5258620689655172,
          0.5488505747126436
         ],
         "type": "scatter"
        },
        {
         "name": "ENT",
         "x": [
          0.05,
          0.1,
          0.15,
          0.2,
          0.25,
          0.3,
          0.35,
          0.4,
          0.45,
          0.5,
          0.55,
          0.6,
          0.65,
          0.7,
          0.75,
          0.8,
          0.85,
          0.9,
          0.95
         ],
         "y": [
          0.03048780487804878,
          0.09146341463414634,
          0.16463414634146342,
          0.1951219512195122,
          0.23780487804878048,
          0.2804878048780488,
          0.3048780487804878,
          0.3231707317073171,
          0.34146341463414637,
          0.36585365853658536,
          0.42073170731707316,
          0.45121951219512196,
          0.47560975609756095,
          0.5365853658536586,
          0.5548780487804879,
          0.5914634146341463,
          0.6463414634146342,
          0.6890243902439024,
          0.7317073170731707
         ],
         "type": "scatter"
        },
        {
         "name": "ENT (filtered)",
         "x": [
          0.05,
          0.1,
          0.15,
          0.2,
          0.25,
          0.3,
          0.35,
          0.4,
          0.45,
          0.5,
          0.55,
          0.6,
          0.65,
          0.7,
          0.75,
          0.8,
          0.85,
          0.9,
          0.95
         ],
         "y": [
          0.025,
          0.06875,
          0.09375,
          0.14375,
          0.18125,
          0.20625,
          0.225,
          0.25,
          0.275,
          0.2875,
          0.3125,
          0.35625,
          0.4125,
          0.45625,
          0.49375,
          0.51875,
          0.55625,
          0.6125,
          0.65
         ],
         "type": "scatter"
        }
       ],
       "layout": {
        "template": {
         "data": {
          "bar": [
           {
            "error_x": {
             "color": "#2a3f5f"
            },
            "error_y": {
             "color": "#2a3f5f"
            },
            "marker": {
             "line": {
              "color": "#E5ECF6",
              "width": 0.5
             },
             "pattern": {
              "fillmode": "overlay",
              "size": 10,
              "solidity": 0.2
             }
            },
            "type": "bar"
           }
          ],
          "barpolar": [
           {
            "marker": {
             "line": {
              "color": "#E5ECF6",
              "width": 0.5
             },
             "pattern": {
              "fillmode": "overlay",
              "size": 10,
              "solidity": 0.2
             }
            },
            "type": "barpolar"
           }
          ],
          "carpet": [
           {
            "aaxis": {
             "endlinecolor": "#2a3f5f",
             "gridcolor": "white",
             "linecolor": "white",
             "minorgridcolor": "white",
             "startlinecolor": "#2a3f5f"
            },
            "baxis": {
             "endlinecolor": "#2a3f5f",
             "gridcolor": "white",
             "linecolor": "white",
             "minorgridcolor": "white",
             "startlinecolor": "#2a3f5f"
            },
            "type": "carpet"
           }
          ],
          "choropleth": [
           {
            "colorbar": {
             "outlinewidth": 0,
             "ticks": ""
            },
            "type": "choropleth"
           }
          ],
          "contour": [
           {
            "colorbar": {
             "outlinewidth": 0,
             "ticks": ""
            },
            "colorscale": [
             [
              0.0,
              "#0d0887"
             ],
             [
              0.1111111111111111,
              "#46039f"
             ],
             [
              0.2222222222222222,
              "#7201a8"
             ],
             [
              0.3333333333333333,
              "#9c179e"
             ],
             [
              0.4444444444444444,
              "#bd3786"
             ],
             [
              0.5555555555555556,
              "#d8576b"
             ],
             [
              0.6666666666666666,
              "#ed7953"
             ],
             [
              0.7777777777777778,
              "#fb9f3a"
             ],
             [
              0.8888888888888888,
              "#fdca26"
             ],
             [
              1.0,
              "#f0f921"
             ]
            ],
            "type": "contour"
           }
          ],
          "contourcarpet": [
           {
            "colorbar": {
             "outlinewidth": 0,
             "ticks": ""
            },
            "type": "contourcarpet"
           }
          ],
          "heatmap": [
           {
            "colorbar": {
             "outlinewidth": 0,
             "ticks": ""
            },
            "colorscale": [
             [
              0.0,
              "#0d0887"
             ],
             [
              0.1111111111111111,
              "#46039f"
             ],
             [
              0.2222222222222222,
              "#7201a8"
             ],
             [
              0.3333333333333333,
              "#9c179e"
             ],
             [
              0.4444444444444444,
              "#bd3786"
             ],
             [
              0.5555555555555556,
              "#d8576b"
             ],
             [
              0.6666666666666666,
              "#ed7953"
             ],
             [
              0.7777777777777778,
              "#fb9f3a"
             ],
             [
              0.8888888888888888,
              "#fdca26"
             ],
             [
              1.0,
              "#f0f921"
             ]
            ],
            "type": "heatmap"
           }
          ],
          "heatmapgl": [
           {
            "colorbar": {
             "outlinewidth": 0,
             "ticks": ""
            },
            "colorscale": [
             [
              0.0,
              "#0d0887"
             ],
             [
              0.1111111111111111,
              "#46039f"
             ],
             [
              0.2222222222222222,
              "#7201a8"
             ],
             [
              0.3333333333333333,
              "#9c179e"
             ],
             [
              0.4444444444444444,
              "#bd3786"
             ],
             [
              0.5555555555555556,
              "#d8576b"
             ],
             [
              0.6666666666666666,
              "#ed7953"
             ],
             [
              0.7777777777777778,
              "#fb9f3a"
             ],
             [
              0.8888888888888888,
              "#fdca26"
             ],
             [
              1.0,
              "#f0f921"
             ]
            ],
            "type": "heatmapgl"
           }
          ],
          "histogram": [
           {
            "marker": {
             "pattern": {
              "fillmode": "overlay",
              "size": 10,
              "solidity": 0.2
             }
            },
            "type": "histogram"
           }
          ],
          "histogram2d": [
           {
            "colorbar": {
             "outlinewidth": 0,
             "ticks": ""
            },
            "colorscale": [
             [
              0.0,
              "#0d0887"
             ],
             [
              0.1111111111111111,
              "#46039f"
             ],
             [
              0.2222222222222222,
              "#7201a8"
             ],
             [
              0.3333333333333333,
              "#9c179e"
             ],
             [
              0.4444444444444444,
              "#bd3786"
             ],
             [
              0.5555555555555556,
              "#d8576b"
             ],
             [
              0.6666666666666666,
              "#ed7953"
             ],
             [
              0.7777777777777778,
              "#fb9f3a"
             ],
             [
              0.8888888888888888,
              "#fdca26"
             ],
             [
              1.0,
              "#f0f921"
             ]
            ],
            "type": "histogram2d"
           }
          ],
          "histogram2dcontour": [
           {
            "colorbar": {
             "outlinewidth": 0,
             "ticks": ""
            },
            "colorscale": [
             [
              0.0,
              "#0d0887"
             ],
             [
              0.1111111111111111,
              "#46039f"
             ],
             [
              0.2222222222222222,
              "#7201a8"
             ],
             [
              0.3333333333333333,
              "#9c179e"
             ],
             [
              0.4444444444444444,
              "#bd3786"
             ],
             [
              0.5555555555555556,
              "#d8576b"
             ],
             [
              0.6666666666666666,
              "#ed7953"
             ],
             [
              0.7777777777777778,
              "#fb9f3a"
             ],
             [
              0.8888888888888888,
              "#fdca26"
             ],
             [
              1.0,
              "#f0f921"
             ]
            ],
            "type": "histogram2dcontour"
           }
          ],
          "mesh3d": [
           {
            "colorbar": {
             "outlinewidth": 0,
             "ticks": ""
            },
            "type": "mesh3d"
           }
          ],
          "parcoords": [
           {
            "line": {
             "colorbar": {
              "outlinewidth": 0,
              "ticks": ""
             }
            },
            "type": "parcoords"
           }
          ],
          "pie": [
           {
            "automargin": true,
            "type": "pie"
           }
          ],
          "scatter": [
           {
            "marker": {
             "colorbar": {
              "outlinewidth": 0,
              "ticks": ""
             }
            },
            "type": "scatter"
           }
          ],
          "scatter3d": [
           {
            "line": {
             "colorbar": {
              "outlinewidth": 0,
              "ticks": ""
             }
            },
            "marker": {
             "colorbar": {
              "outlinewidth": 0,
              "ticks": ""
             }
            },
            "type": "scatter3d"
           }
          ],
          "scattercarpet": [
           {
            "marker": {
             "colorbar": {
              "outlinewidth": 0,
              "ticks": ""
             }
            },
            "type": "scattercarpet"
           }
          ],
          "scattergeo": [
           {
            "marker": {
             "colorbar": {
              "outlinewidth": 0,
              "ticks": ""
             }
            },
            "type": "scattergeo"
           }
          ],
          "scattergl": [
           {
            "marker": {
             "colorbar": {
              "outlinewidth": 0,
              "ticks": ""
             }
            },
            "type": "scattergl"
           }
          ],
          "scattermapbox": [
           {
            "marker": {
             "colorbar": {
              "outlinewidth": 0,
              "ticks": ""
             }
            },
            "type": "scattermapbox"
           }
          ],
          "scatterpolar": [
           {
            "marker": {
             "colorbar": {
              "outlinewidth": 0,
              "ticks": ""
             }
            },
            "type": "scatterpolar"
           }
          ],
          "scatterpolargl": [
           {
            "marker": {
             "colorbar": {
              "outlinewidth": 0,
              "ticks": ""
             }
            },
            "type": "scatterpolargl"
           }
          ],
          "scatterternary": [
           {
            "marker": {
             "colorbar": {
              "outlinewidth": 0,
              "ticks": ""
             }
            },
            "type": "scatterternary"
           }
          ],
          "surface": [
           {
            "colorbar": {
             "outlinewidth": 0,
             "ticks": ""
            },
            "colorscale": [
             [
              0.0,
              "#0d0887"
             ],
             [
              0.1111111111111111,
              "#46039f"
             ],
             [
              0.2222222222222222,
              "#7201a8"
             ],
             [
              0.3333333333333333,
              "#9c179e"
             ],
             [
              0.4444444444444444,
              "#bd3786"
             ],
             [
              0.5555555555555556,
              "#d8576b"
             ],
             [
              0.6666666666666666,
              "#ed7953"
             ],
             [
              0.7777777777777778,
              "#fb9f3a"
             ],
             [
              0.8888888888888888,
              "#fdca26"
             ],
             [
              1.0,
              "#f0f921"
             ]
            ],
            "type": "surface"
           }
          ],
          "table": [
           {
            "cells": {
             "fill": {
              "color": "#EBF0F8"
             },
             "line": {
              "color": "white"
             }
            },
            "header": {
             "fill": {
              "color": "#C8D4E3"
             },
             "line": {
              "color": "white"
             }
            },
            "type": "table"
           }
          ]
         },
         "layout": {
          "annotationdefaults": {
           "arrowcolor": "#2a3f5f",
           "arrowhead": 0,
           "arrowwidth": 1
          },
          "autotypenumbers": "strict",
          "coloraxis": {
           "colorbar": {
            "outlinewidth": 0,
            "ticks": ""
           }
          },
          "colorscale": {
           "diverging": [
            [
             0,
             "#8e0152"
            ],
            [
             0.1,
             "#c51b7d"
            ],
            [
             0.2,
             "#de77ae"
            ],
            [
             0.3,
             "#f1b6da"
            ],
            [
             0.4,
             "#fde0ef"
            ],
            [
             0.5,
             "#f7f7f7"
            ],
            [
             0.6,
             "#e6f5d0"
            ],
            [
             0.7,
             "#b8e186"
            ],
            [
             0.8,
             "#7fbc41"
            ],
            [
             0.9,
             "#4d9221"
            ],
            [
             1,
             "#276419"
            ]
           ],
           "sequential": [
            [
             0.0,
             "#0d0887"
            ],
            [
             0.1111111111111111,
             "#46039f"
            ],
            [
             0.2222222222222222,
             "#7201a8"
            ],
            [
             0.3333333333333333,
             "#9c179e"
            ],
            [
             0.4444444444444444,
             "#bd3786"
            ],
            [
             0.5555555555555556,
             "#d8576b"
            ],
            [
             0.6666666666666666,
             "#ed7953"
            ],
            [
             0.7777777777777778,
             "#fb9f3a"
            ],
            [
             0.8888888888888888,
             "#fdca26"
            ],
            [
             1.0,
             "#f0f921"
            ]
           ],
           "sequentialminus": [
            [
             0.0,
             "#0d0887"
            ],
            [
             0.1111111111111111,
             "#46039f"
            ],
            [
             0.2222222222222222,
             "#7201a8"
            ],
            [
             0.3333333333333333,
             "#9c179e"
            ],
            [
             0.4444444444444444,
             "#bd3786"
            ],
            [
             0.5555555555555556,
             "#d8576b"
            ],
            [
             0.6666666666666666,
             "#ed7953"
            ],
            [
             0.7777777777777778,
             "#fb9f3a"
            ],
            [
             0.8888888888888888,
             "#fdca26"
            ],
            [
             1.0,
             "#f0f921"
            ]
           ]
          },
          "colorway": [
           "#636efa",
           "#EF553B",
           "#00cc96",
           "#ab63fa",
           "#FFA15A",
           "#19d3f3",
           "#FF6692",
           "#B6E880",
           "#FF97FF",
           "#FECB52"
          ],
          "font": {
           "color": "#2a3f5f"
          },
          "geo": {
           "bgcolor": "white",
           "lakecolor": "white",
           "landcolor": "#E5ECF6",
           "showlakes": true,
           "showland": true,
           "subunitcolor": "white"
          },
          "hoverlabel": {
           "align": "left"
          },
          "hovermode": "closest",
          "mapbox": {
           "style": "light"
          },
          "paper_bgcolor": "white",
          "plot_bgcolor": "#E5ECF6",
          "polar": {
           "angularaxis": {
            "gridcolor": "white",
            "linecolor": "white",
            "ticks": ""
           },
           "bgcolor": "#E5ECF6",
           "radialaxis": {
            "gridcolor": "white",
            "linecolor": "white",
            "ticks": ""
           }
          },
          "scene": {
           "xaxis": {
            "backgroundcolor": "#E5ECF6",
            "gridcolor": "white",
            "gridwidth": 2,
            "linecolor": "white",
            "showbackground": true,
            "ticks": "",
            "zerolinecolor": "white"
           },
           "yaxis": {
            "backgroundcolor": "#E5ECF6",
            "gridcolor": "white",
            "gridwidth": 2,
            "linecolor": "white",
            "showbackground": true,
            "ticks": "",
            "zerolinecolor": "white"
           },
           "zaxis": {
            "backgroundcolor": "#E5ECF6",
            "gridcolor": "white",
            "gridwidth": 2,
            "linecolor": "white",
            "showbackground": true,
            "ticks": "",
            "zerolinecolor": "white"
           }
          },
          "shapedefaults": {
           "line": {
            "color": "#2a3f5f"
           }
          },
          "ternary": {
           "aaxis": {
            "gridcolor": "white",
            "linecolor": "white",
            "ticks": ""
           },
           "baxis": {
            "gridcolor": "white",
            "linecolor": "white",
            "ticks": ""
           },
           "bgcolor": "#E5ECF6",
           "caxis": {
            "gridcolor": "white",
            "linecolor": "white",
            "ticks": ""
           }
          },
          "title": {
           "x": 0.05
          },
          "xaxis": {
           "automargin": true,
           "gridcolor": "white",
           "linecolor": "white",
           "ticks": "",
           "title": {
            "standoff": 15
           },
           "zerolinecolor": "white",
           "zerolinewidth": 2
          },
          "yaxis": {
           "automargin": true,
           "gridcolor": "white",
           "linecolor": "white",
           "ticks": "",
           "title": {
            "standoff": 15
           },
           "zerolinecolor": "white",
           "zerolinewidth": 2
          }
         }
        },
        "title": {
         "text": "Plot Title"
        },
        "xaxis": {
         "title": {
          "text": "confidence level"
         }
        },
        "yaxis": {
         "title": {
          "text": "accuracy"
         }
        },
        "legend": {
         "title": {
          "text": ""
         }
        }
       },
       "config": {
        "plotlyServerURL": "https://plot.ly"
       }
      },
      "text/html": "<div>                            <div id=\"69ab63c5-080b-46dd-bfc2-df81d7124126\" class=\"plotly-graph-div\" style=\"height:525px; width:100%;\"></div>            <script type=\"text/javascript\">                require([\"plotly\"], function(Plotly) {                    window.PLOTLYENV=window.PLOTLYENV || {};                                    if (document.getElementById(\"69ab63c5-080b-46dd-bfc2-df81d7124126\")) {                    Plotly.newPlot(                        \"69ab63c5-080b-46dd-bfc2-df81d7124126\",                        [{\"name\":\"optimal\",\"x\":[0.05,0.1,0.15,0.2,0.25,0.3,0.35,0.4,0.45,0.5,0.55,0.6,0.65,0.7,0.75,0.8,0.85,0.9,0.95],\"y\":[0.05,0.1,0.15,0.2,0.25,0.3,0.35,0.4,0.45,0.5,0.55,0.6,0.65,0.7,0.75,0.8,0.85,0.9,0.95],\"type\":\"scatter\"},{\"name\":\"TEM\",\"x\":[0.05,0.1,0.15,0.2,0.25,0.3,0.35,0.4,0.45,0.5,0.55,0.6,0.65,0.7,0.75,0.8,0.85,0.9,0.95],\"y\":[0.10425531914893617,0.16170212765957448,0.19787234042553192,0.23829787234042554,0.2531914893617021,0.2702127659574468,0.2872340425531915,0.30425531914893617,0.3170212765957447,0.33404255319148934,0.3468085106382979,0.37446808510638296,0.39574468085106385,0.42340425531914894,0.44680851063829785,0.46382978723404256,0.4851063829787234,0.5085106382978724,0.5276595744680851],\"type\":\"scatter\"},{\"name\":\"TEM (filtered)\",\"x\":[0.05,0.1,0.15,0.2,0.25,0.3,0.35,0.4,0.45,0.5,0.55,0.6,0.65,0.7,0.75,0.8,0.85,0.9,0.95],\"y\":[0.20402298850574713,0.21264367816091953,0.22701149425287356,0.25,0.25,0.28160919540229884,0.2959770114942529,0.3160919540229885,0.3333333333333333,0.3505747126436782,0.3649425287356322,0.3936781609195402,0.40804597701149425,0.42528735632183906,0.4482758620689655,0.46839080459770116,0.5172413793103449,0.5258620689655172,0.5488505747126436],\"type\":\"scatter\"},{\"name\":\"ENT\",\"x\":[0.05,0.1,0.15,0.2,0.25,0.3,0.35,0.4,0.45,0.5,0.55,0.6,0.65,0.7,0.75,0.8,0.85,0.9,0.95],\"y\":[0.03048780487804878,0.09146341463414634,0.16463414634146342,0.1951219512195122,0.23780487804878048,0.2804878048780488,0.3048780487804878,0.3231707317073171,0.34146341463414637,0.36585365853658536,0.42073170731707316,0.45121951219512196,0.47560975609756095,0.5365853658536586,0.5548780487804879,0.5914634146341463,0.6463414634146342,0.6890243902439024,0.7317073170731707],\"type\":\"scatter\"},{\"name\":\"ENT (filtered)\",\"x\":[0.05,0.1,0.15,0.2,0.25,0.3,0.35,0.4,0.45,0.5,0.55,0.6,0.65,0.7,0.75,0.8,0.85,0.9,0.95],\"y\":[0.025,0.06875,0.09375,0.14375,0.18125,0.20625,0.225,0.25,0.275,0.2875,0.3125,0.35625,0.4125,0.45625,0.49375,0.51875,0.55625,0.6125,0.65],\"type\":\"scatter\"}],                        {\"template\":{\"data\":{\"bar\":[{\"error_x\":{\"color\":\"#2a3f5f\"},\"error_y\":{\"color\":\"#2a3f5f\"},\"marker\":{\"line\":{\"color\":\"#E5ECF6\",\"width\":0.5},\"pattern\":{\"fillmode\":\"overlay\",\"size\":10,\"solidity\":0.2}},\"type\":\"bar\"}],\"barpolar\":[{\"marker\":{\"line\":{\"color\":\"#E5ECF6\",\"width\":0.5},\"pattern\":{\"fillmode\":\"overlay\",\"size\":10,\"solidity\":0.2}},\"type\":\"barpolar\"}],\"carpet\":[{\"aaxis\":{\"endlinecolor\":\"#2a3f5f\",\"gridcolor\":\"white\",\"linecolor\":\"white\",\"minorgridcolor\":\"white\",\"startlinecolor\":\"#2a3f5f\"},\"baxis\":{\"endlinecolor\":\"#2a3f5f\",\"gridcolor\":\"white\",\"linecolor\":\"white\",\"minorgridcolor\":\"white\",\"startlinecolor\":\"#2a3f5f\"},\"type\":\"carpet\"}],\"choropleth\":[{\"colorbar\":{\"outlinewidth\":0,\"ticks\":\"\"},\"type\":\"choropleth\"}],\"contour\":[{\"colorbar\":{\"outlinewidth\":0,\"ticks\":\"\"},\"colorscale\":[[0.0,\"#0d0887\"],[0.1111111111111111,\"#46039f\"],[0.2222222222222222,\"#7201a8\"],[0.3333333333333333,\"#9c179e\"],[0.4444444444444444,\"#bd3786\"],[0.5555555555555556,\"#d8576b\"],[0.6666666666666666,\"#ed7953\"],[0.7777777777777778,\"#fb9f3a\"],[0.8888888888888888,\"#fdca26\"],[1.0,\"#f0f921\"]],\"type\":\"contour\"}],\"contourcarpet\":[{\"colorbar\":{\"outlinewidth\":0,\"ticks\":\"\"},\"type\":\"contourcarpet\"}],\"heatmap\":[{\"colorbar\":{\"outlinewidth\":0,\"ticks\":\"\"},\"colorscale\":[[0.0,\"#0d0887\"],[0.1111111111111111,\"#46039f\"],[0.2222222222222222,\"#7201a8\"],[0.3333333333333333,\"#9c179e\"],[0.4444444444444444,\"#bd3786\"],[0.5555555555555556,\"#d8576b\"],[0.6666666666666666,\"#ed7953\"],[0.7777777777777778,\"#fb9f3a\"],[0.8888888888888888,\"#fdca26\"],[1.0,\"#f0f921\"]],\"type\":\"heatmap\"}],\"heatmapgl\":[{\"colorbar\":{\"outlinewidth\":0,\"ticks\":\"\"},\"colorscale\":[[0.0,\"#0d0887\"],[0.1111111111111111,\"#46039f\"],[0.2222222222222222,\"#7201a8\"],[0.3333333333333333,\"#9c179e\"],[0.4444444444444444,\"#bd3786\"],[0.5555555555555556,\"#d8576b\"],[0.6666666666666666,\"#ed7953\"],[0.7777777777777778,\"#fb9f3a\"],[0.8888888888888888,\"#fdca26\"],[1.0,\"#f0f921\"]],\"type\":\"heatmapgl\"}],\"histogram\":[{\"marker\":{\"pattern\":{\"fillmode\":\"overlay\",\"size\":10,\"solidity\":0.2}},\"type\":\"histogram\"}],\"histogram2d\":[{\"colorbar\":{\"outlinewidth\":0,\"ticks\":\"\"},\"colorscale\":[[0.0,\"#0d0887\"],[0.1111111111111111,\"#46039f\"],[0.2222222222222222,\"#7201a8\"],[0.3333333333333333,\"#9c179e\"],[0.4444444444444444,\"#bd3786\"],[0.5555555555555556,\"#d8576b\"],[0.6666666666666666,\"#ed7953\"],[0.7777777777777778,\"#fb9f3a\"],[0.8888888888888888,\"#fdca26\"],[1.0,\"#f0f921\"]],\"type\":\"histogram2d\"}],\"histogram2dcontour\":[{\"colorbar\":{\"outlinewidth\":0,\"ticks\":\"\"},\"colorscale\":[[0.0,\"#0d0887\"],[0.1111111111111111,\"#46039f\"],[0.2222222222222222,\"#7201a8\"],[0.3333333333333333,\"#9c179e\"],[0.4444444444444444,\"#bd3786\"],[0.5555555555555556,\"#d8576b\"],[0.6666666666666666,\"#ed7953\"],[0.7777777777777778,\"#fb9f3a\"],[0.8888888888888888,\"#fdca26\"],[1.0,\"#f0f921\"]],\"type\":\"histogram2dcontour\"}],\"mesh3d\":[{\"colorbar\":{\"outlinewidth\":0,\"ticks\":\"\"},\"type\":\"mesh3d\"}],\"parcoords\":[{\"line\":{\"colorbar\":{\"outlinewidth\":0,\"ticks\":\"\"}},\"type\":\"parcoords\"}],\"pie\":[{\"automargin\":true,\"type\":\"pie\"}],\"scatter\":[{\"marker\":{\"colorbar\":{\"outlinewidth\":0,\"ticks\":\"\"}},\"type\":\"scatter\"}],\"scatter3d\":[{\"line\":{\"colorbar\":{\"outlinewidth\":0,\"ticks\":\"\"}},\"marker\":{\"colorbar\":{\"outlinewidth\":0,\"ticks\":\"\"}},\"type\":\"scatter3d\"}],\"scattercarpet\":[{\"marker\":{\"colorbar\":{\"outlinewidth\":0,\"ticks\":\"\"}},\"type\":\"scattercarpet\"}],\"scattergeo\":[{\"marker\":{\"colorbar\":{\"outlinewidth\":0,\"ticks\":\"\"}},\"type\":\"scattergeo\"}],\"scattergl\":[{\"marker\":{\"colorbar\":{\"outlinewidth\":0,\"ticks\":\"\"}},\"type\":\"scattergl\"}],\"scattermapbox\":[{\"marker\":{\"colorbar\":{\"outlinewidth\":0,\"ticks\":\"\"}},\"type\":\"scattermapbox\"}],\"scatterpolar\":[{\"marker\":{\"colorbar\":{\"outlinewidth\":0,\"ticks\":\"\"}},\"type\":\"scatterpolar\"}],\"scatterpolargl\":[{\"marker\":{\"colorbar\":{\"outlinewidth\":0,\"ticks\":\"\"}},\"type\":\"scatterpolargl\"}],\"scatterternary\":[{\"marker\":{\"colorbar\":{\"outlinewidth\":0,\"ticks\":\"\"}},\"type\":\"scatterternary\"}],\"surface\":[{\"colorbar\":{\"outlinewidth\":0,\"ticks\":\"\"},\"colorscale\":[[0.0,\"#0d0887\"],[0.1111111111111111,\"#46039f\"],[0.2222222222222222,\"#7201a8\"],[0.3333333333333333,\"#9c179e\"],[0.4444444444444444,\"#bd3786\"],[0.5555555555555556,\"#d8576b\"],[0.6666666666666666,\"#ed7953\"],[0.7777777777777778,\"#fb9f3a\"],[0.8888888888888888,\"#fdca26\"],[1.0,\"#f0f921\"]],\"type\":\"surface\"}],\"table\":[{\"cells\":{\"fill\":{\"color\":\"#EBF0F8\"},\"line\":{\"color\":\"white\"}},\"header\":{\"fill\":{\"color\":\"#C8D4E3\"},\"line\":{\"color\":\"white\"}},\"type\":\"table\"}]},\"layout\":{\"annotationdefaults\":{\"arrowcolor\":\"#2a3f5f\",\"arrowhead\":0,\"arrowwidth\":1},\"autotypenumbers\":\"strict\",\"coloraxis\":{\"colorbar\":{\"outlinewidth\":0,\"ticks\":\"\"}},\"colorscale\":{\"diverging\":[[0,\"#8e0152\"],[0.1,\"#c51b7d\"],[0.2,\"#de77ae\"],[0.3,\"#f1b6da\"],[0.4,\"#fde0ef\"],[0.5,\"#f7f7f7\"],[0.6,\"#e6f5d0\"],[0.7,\"#b8e186\"],[0.8,\"#7fbc41\"],[0.9,\"#4d9221\"],[1,\"#276419\"]],\"sequential\":[[0.0,\"#0d0887\"],[0.1111111111111111,\"#46039f\"],[0.2222222222222222,\"#7201a8\"],[0.3333333333333333,\"#9c179e\"],[0.4444444444444444,\"#bd3786\"],[0.5555555555555556,\"#d8576b\"],[0.6666666666666666,\"#ed7953\"],[0.7777777777777778,\"#fb9f3a\"],[0.8888888888888888,\"#fdca26\"],[1.0,\"#f0f921\"]],\"sequentialminus\":[[0.0,\"#0d0887\"],[0.1111111111111111,\"#46039f\"],[0.2222222222222222,\"#7201a8\"],[0.3333333333333333,\"#9c179e\"],[0.4444444444444444,\"#bd3786\"],[0.5555555555555556,\"#d8576b\"],[0.6666666666666666,\"#ed7953\"],[0.7777777777777778,\"#fb9f3a\"],[0.8888888888888888,\"#fdca26\"],[1.0,\"#f0f921\"]]},\"colorway\":[\"#636efa\",\"#EF553B\",\"#00cc96\",\"#ab63fa\",\"#FFA15A\",\"#19d3f3\",\"#FF6692\",\"#B6E880\",\"#FF97FF\",\"#FECB52\"],\"font\":{\"color\":\"#2a3f5f\"},\"geo\":{\"bgcolor\":\"white\",\"lakecolor\":\"white\",\"landcolor\":\"#E5ECF6\",\"showlakes\":true,\"showland\":true,\"subunitcolor\":\"white\"},\"hoverlabel\":{\"align\":\"left\"},\"hovermode\":\"closest\",\"mapbox\":{\"style\":\"light\"},\"paper_bgcolor\":\"white\",\"plot_bgcolor\":\"#E5ECF6\",\"polar\":{\"angularaxis\":{\"gridcolor\":\"white\",\"linecolor\":\"white\",\"ticks\":\"\"},\"bgcolor\":\"#E5ECF6\",\"radialaxis\":{\"gridcolor\":\"white\",\"linecolor\":\"white\",\"ticks\":\"\"}},\"scene\":{\"xaxis\":{\"backgroundcolor\":\"#E5ECF6\",\"gridcolor\":\"white\",\"gridwidth\":2,\"linecolor\":\"white\",\"showbackground\":true,\"ticks\":\"\",\"zerolinecolor\":\"white\"},\"yaxis\":{\"backgroundcolor\":\"#E5ECF6\",\"gridcolor\":\"white\",\"gridwidth\":2,\"linecolor\":\"white\",\"showbackground\":true,\"ticks\":\"\",\"zerolinecolor\":\"white\"},\"zaxis\":{\"backgroundcolor\":\"#E5ECF6\",\"gridcolor\":\"white\",\"gridwidth\":2,\"linecolor\":\"white\",\"showbackground\":true,\"ticks\":\"\",\"zerolinecolor\":\"white\"}},\"shapedefaults\":{\"line\":{\"color\":\"#2a3f5f\"}},\"ternary\":{\"aaxis\":{\"gridcolor\":\"white\",\"linecolor\":\"white\",\"ticks\":\"\"},\"baxis\":{\"gridcolor\":\"white\",\"linecolor\":\"white\",\"ticks\":\"\"},\"bgcolor\":\"#E5ECF6\",\"caxis\":{\"gridcolor\":\"white\",\"linecolor\":\"white\",\"ticks\":\"\"}},\"title\":{\"x\":0.05},\"xaxis\":{\"automargin\":true,\"gridcolor\":\"white\",\"linecolor\":\"white\",\"ticks\":\"\",\"title\":{\"standoff\":15},\"zerolinecolor\":\"white\",\"zerolinewidth\":2},\"yaxis\":{\"automargin\":true,\"gridcolor\":\"white\",\"linecolor\":\"white\",\"ticks\":\"\",\"title\":{\"standoff\":15},\"zerolinecolor\":\"white\",\"zerolinewidth\":2}}},\"title\":{\"text\":\"Plot Title\"},\"xaxis\":{\"title\":{\"text\":\"confidence level\"}},\"yaxis\":{\"title\":{\"text\":\"accuracy\"}},\"legend\":{\"title\":{\"text\":\"\"}}},                        {\"responsive\": true}                    ).then(function(){\n                            \nvar gd = document.getElementById('69ab63c5-080b-46dd-bfc2-df81d7124126');\nvar x = new MutationObserver(function (mutations, observer) {{\n        var display = window.getComputedStyle(gd).display;\n        if (!display || display === 'none') {{\n            console.log([gd, 'removed!']);\n            Plotly.purge(gd);\n            observer.disconnect();\n        }}\n}});\n\n// Listen for the removal of the full notebook cells\nvar notebookContainer = gd.closest('#notebook-container');\nif (notebookContainer) {{\n    x.observe(notebookContainer, {childList: true});\n}}\n\n// Listen for the clearing of the current output cell\nvar outputEl = gd.closest('.output');\nif (outputEl) {{\n    x.observe(outputEl, {childList: true});\n}}\n\n                        })                };                });            </script>        </div>"
     },
     "metadata": {},
     "output_type": "display_data"
    }
   ],
   "source": [
    "import plotly.express as px\n",
    "\n",
    "fig = go.Figure()\n",
    "fig.add_trace(go.Scatter(x=confidence_levels, y=confidence_levels, name=\"optimal\"))\n",
    "fig.add_trace(go.Scatter(x=confidence_levels, y=tem_accuracies, name=\"TEM\"))\n",
    "fig.add_trace(go.Scatter(x=confidence_levels, y=tem_filtered_accuracies, name=\"TEM (filtered)\"))\n",
    "fig.add_trace(go.Scatter(x=confidence_levels, y=ent_accuracies, name=\"ENT\"))\n",
    "fig.add_trace(go.Scatter(x=confidence_levels, y=ent_filtered_accuracies, name=\"ENT (filtered)\"))\n",
    "fig.update_layout(\n",
    "    title=\"Plot Title\",\n",
    "    xaxis_title=\"confidence level\",\n",
    "    yaxis_title=\"accuracy\",\n",
    "    legend_title=\"\",\n",
    ")\n",
    "fig.show()"
   ],
   "metadata": {
    "collapsed": false,
    "pycharm": {
     "name": "#%%\n"
    }
   }
  },
  {
   "cell_type": "code",
   "execution_count": null,
   "outputs": [],
   "source": [],
   "metadata": {
    "collapsed": false,
    "pycharm": {
     "name": "#%%\n"
    }
   }
  }
 ],
 "metadata": {
  "kernelspec": {
   "display_name": "Python 3",
   "language": "python",
   "name": "python3"
  },
  "language_info": {
   "codemirror_mode": {
    "name": "ipython",
    "version": 2
   },
   "file_extension": ".py",
   "mimetype": "text/x-python",
   "name": "python",
   "nbconvert_exporter": "python",
   "pygments_lexer": "ipython2",
   "version": "2.7.6"
  }
 },
 "nbformat": 4,
 "nbformat_minor": 0
}